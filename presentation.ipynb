{
 "cells": [
  {
   "cell_type": "markdown",
   "metadata": {
    "slideshow": {
     "slide_type": "slide"
    }
   },
   "source": [
    "<h1 style=\"text-align:center;\"> <a name=\"titre\"></a>Formation Jupyter</h1>"
   ]
  },
  {
   "cell_type": "markdown",
   "metadata": {
    "slideshow": {
     "slide_type": "subslide"
    }
   },
   "source": [
    "<center>Cette formation n'a pas vocation à vous apprendre à programmer en python. Le but est de découvrir et de configurer un environnement Jupyter afin de pouvoir l'utiliser avec les élèves en présence ou à distance.</center>"
   ]
  },
  {
   "cell_type": "markdown",
   "metadata": {
    "slideshow": {
     "slide_type": "slide"
    }
   },
   "source": [
    "# SOMMAIRE\n",
    "[I. L'environnement sur github](#partie1)\n",
    "\n",
    "<span style=\"margin-left:2em;\">[I.1. Reproduire l'environnement](#partie1.1)</span>\n",
    "\n",
    "[II. Jupyter](#partie2)\n",
    "\n",
    "<span style=\"margin-left:2em;\">[II.1. Les cellules de code](#partie2.1)</span>\n",
    "\n",
    "<span style=\"margin-left:2em;\">[II.2. Les cellules markdown](#partie2.2)</span>\n",
    "\n",
    "<span style=\"margin-left:2em;\">[II.3. Mise ne forme avancée](#partie2.3)</span>\n",
    "\n",
    "[III. Exports et utilisations](#partie3)\n"
   ]
  },
  {
   "cell_type": "markdown",
   "metadata": {
    "slideshow": {
     "slide_type": "slide"
    }
   },
   "source": [
    "## <a name=\"partie1\"></a> I. L'environnement sur github "
   ]
  },
  {
   "cell_type": "markdown",
   "metadata": {},
   "source": [
    "### <span style=\"margin-left:2em;\"><a name=\"partie1.1\"></a>I.1 Reproduire l'environnement</span>"
   ]
  },
  {
   "cell_type": "markdown",
   "metadata": {},
   "source": [
    "Il vous faut un espace GITHUB pour pouvoir récupérer l'ensemble des fichiers, les modifier puis fabriquer vos propres serveurs virtuels. La première étape est donc de s'inscrire sur [ce site](https://www.github.com)"
   ]
  },
  {
   "cell_type": "markdown",
   "metadata": {},
   "source": [
    "Il faut ensuite aller sur mon dépôt lié à cette formation en [cliquant ici](https://www.github.com/jcamponovo/formation2020). Pour info le nom d'utilisateur est **jcamponovo** et il s'agit du dépôt **formation2020**."
   ]
  },
  {
   "cell_type": "markdown",
   "metadata": {},
   "source": [
    "obtenir des liens depuis binder"
   ]
  },
  {
   "cell_type": "markdown",
   "metadata": {},
   "source": [
    "modifier les liens "
   ]
  },
  {
   "cell_type": "markdown",
   "metadata": {},
   "source": [
    "Mettre à jour s'il y a des modifications sur le dépôt de base (vos modifications et ajouts sont conservés)\n",
    "Les documents sont publics tel que l'espace est configuré et partagés avec licence libre\n",
    "Suivre un dépot => surveiller les forks et partager"
   ]
  },
  {
   "cell_type": "markdown",
   "metadata": {},
   "source": [
    "modifier les bibliothèques python"
   ]
  },
  {
   "cell_type": "markdown",
   "metadata": {},
   "source": [
    "avance: modification du serveur linux fichier apt.txt"
   ]
  },
  {
   "cell_type": "markdown",
   "metadata": {},
   "source": [
    "avance: propositions de mises à jour => il est possible de collaborer en ayant chacun sa version du document"
   ]
  },
  {
   "cell_type": "markdown",
   "metadata": {},
   "source": [
    "<span style=\"text-align:right;\">[Retour](#titre)</span>"
   ]
  },
  {
   "cell_type": "markdown",
   "metadata": {
    "slideshow": {
     "slide_type": "slide"
    }
   },
   "source": [
    "## <a name=\"partie2\"></a>II. Jupyter"
   ]
  },
  {
   "cell_type": "markdown",
   "metadata": {},
   "source": [
    "Attention, cette formation n'a pas pour but d'apprendre à programmer en python!"
   ]
  },
  {
   "cell_type": "markdown",
   "metadata": {},
   "source": [
    "utiliser l'environnement pour creer une page (on laisse la page environnement ouverte cela donne 2h de tranquilité explication plus loin)"
   ]
  },
  {
   "cell_type": "markdown",
   "metadata": {},
   "source": [
    "Différentes cellules"
   ]
  },
  {
   "cell_type": "markdown",
   "metadata": {},
   "source": [
    "<span style=\"text-align:right;\">[Retour](#titre)</span>"
   ]
  },
  {
   "cell_type": "markdown",
   "metadata": {
    "slideshow": {
     "slide_type": "slide"
    }
   },
   "source": [
    "### <a name=\"partie2.1\"></a> II.1. Cellules de code "
   ]
  },
  {
   "cell_type": "markdown",
   "metadata": {},
   "source": [
    "Code et execution"
   ]
  },
  {
   "cell_type": "markdown",
   "metadata": {},
   "source": [
    "Pb des 10 minutes et solution"
   ]
  },
  {
   "cell_type": "markdown",
   "metadata": {},
   "source": [
    "Avancé: modifier le timeout"
   ]
  },
  {
   "cell_type": "markdown",
   "metadata": {},
   "source": [
    "Intermédiaire: Pb de freeze du noyau et solution"
   ]
  },
  {
   "cell_type": "markdown",
   "metadata": {},
   "source": [
    "<span style=\"text-align:right;\">[Retour](#titre)</span>"
   ]
  },
  {
   "cell_type": "markdown",
   "metadata": {
    "slideshow": {
     "slide_type": "slide"
    }
   },
   "source": [
    "### <a name=\"partie2.2\"></a>II.2 Cellules markdown"
   ]
  },
  {
   "cell_type": "markdown",
   "metadata": {},
   "source": [
    "Un peu de syntaxe markdown"
   ]
  },
  {
   "cell_type": "markdown",
   "metadata": {},
   "source": [
    "<span style=\"text-align:right;\">[Retour](#titre)</span>"
   ]
  },
  {
   "cell_type": "markdown",
   "metadata": {},
   "source": [
    "### <a name=\"partie2.3\"></a>II.3 Mise en forme avancee"
   ]
  },
  {
   "cell_type": "markdown",
   "metadata": {},
   "source": [
    "image, hyperlien, iframe, HTML, Cacher les entrees, Youtube, balises HTML acceptees"
   ]
  },
  {
   "cell_type": "markdown",
   "metadata": {},
   "source": [
    "<span style=\"text-align:right;\">[Retour](#titre)</span>"
   ]
  },
  {
   "cell_type": "markdown",
   "metadata": {
    "slideshow": {
     "slide_type": "slide"
    }
   },
   "source": [
    "## <a name=\"partie3\"></a>III. Exports et utilisations"
   ]
  },
  {
   "cell_type": "markdown",
   "metadata": {},
   "source": [
    "=> Export en HTML\n",
    "(intérets et limites)\n",
    "\n",
    "=> Export en ipynb\n",
    "(intérêts et limites)\n",
    "=> Réutiliser un ipynb\n",
    "=> Ajouter un ipynb à votre dépôt\n",
    "\n",
    "=> L'export en pdf a été ajouté mais montre moins d'intérêts que le HTML car la mise en forme change un peu "
   ]
  },
  {
   "cell_type": "markdown",
   "metadata": {},
   "source": [
    "Utilisations:\n",
    "=> proposer un environnement de programmation à distance ou en présence a ses élèves \n",
    "=> rediger des documents interactifs\n",
    "=> proposer des comtpes rendus de tp préformatés\n",
    "=> Proposer des TP hybrides basés sur des simulations (distance) ou manipulation (présence) avec une même exploitation\n",
    "=> Réaliser de petites simulations modifiables par les élèves basées sur matpltolib\n",
    "=> Réaliser des présentations interactives"
   ]
  },
  {
   "cell_type": "markdown",
   "metadata": {},
   "source": [
    "Utilisations particulières configurées dans ce dépot github:\n",
    "=> Appmode (transforme un notebook en application web éditable)\n",
    "=> Voila (transforme un notebook en page web interactive)\n",
    "=> Rise (transforme un notebook en presentation mais tout reste editable et interactif comme dans jupyter!)"
   ]
  },
  {
   "cell_type": "markdown",
   "metadata": {},
   "source": [
    "<span style=\"text-align:right;\">[Retour](#titre)</span>"
   ]
  },
  {
   "cell_type": "code",
   "execution_count": 9,
   "metadata": {},
   "outputs": [
    {
     "data": {
      "text/html": [
       "<script> $('div .input').show()"
      ],
      "text/plain": [
       "<IPython.core.display.HTML object>"
      ]
     },
     "execution_count": 9,
     "metadata": {},
     "output_type": "execute_result"
    }
   ],
   "source": [
    "from IPython.display import HTML\n",
    "\n",
    "HTML('''<script> $('div .input').show()''')"
   ]
  },
  {
   "cell_type": "code",
   "execution_count": 6,
   "metadata": {
    "scrolled": false
   },
   "outputs": [
    {
     "data": {
      "text/html": [
       "<div style=\"width: 100%;\">\n",
       "  <div style=\"position: relative; padding-bottom: 56.25%; padding-top: 0; height: 0;\">\n",
       "    <iframe style=\"position: absolute; top: 0; left: 0; width: 100%; height: 100%;\" src=\"https://view.genial.ly/5ee7245f9a05850d6d9963d8\" type=\"text/html\" allowscriptaccess=\"always\" allowfullscreen=\"true\" scrolling=\"yes\" allownetworking=\"all\" width=\"1200px\"\n",
       "    height=\"675px\" frameborder=\"0\"></iframe>\n",
       "  </div>\n",
       "</div>"
      ],
      "text/plain": [
       "<IPython.core.display.HTML object>"
      ]
     },
     "metadata": {},
     "output_type": "display_data"
    }
   ],
   "source": [
    "from IPython.display import HTML\n",
    "\n",
    "display(HTML(\"\"\"<div style=\"width: 100%;\">\n",
    "  <div style=\"position: relative; padding-bottom: 56.25%; padding-top: 0; height: 0;\">\n",
    "    <iframe style=\"position: absolute; top: 0; left: 0; width: 100%; height: 100%;\" src=\"https://view.genial.ly/5ee7245f9a05850d6d9963d8\" type=\"text/html\" allowscriptaccess=\"always\" allowfullscreen=\"true\" scrolling=\"yes\" allownetworking=\"all\" width=\"1200px\"\n",
    "    height=\"675px\" frameborder=\"0\"></iframe>\n",
    "  </div>\n",
    "</div>\"\"\"))"
   ]
  },
  {
   "cell_type": "code",
   "execution_count": 7,
   "metadata": {},
   "outputs": [
    {
     "data": {
      "text/html": [
       "\n",
       "        <iframe\n",
       "            width=\"900\"\n",
       "            height=\"500\"\n",
       "            src=\"https://en.wikipedia.org/wiki/IFrame\"\n",
       "            frameborder=\"0\"\n",
       "            allowfullscreen\n",
       "        ></iframe>\n",
       "        "
      ],
      "text/plain": [
       "<IPython.lib.display.IFrame at 0x7fcad4594690>"
      ]
     },
     "execution_count": 7,
     "metadata": {},
     "output_type": "execute_result"
    }
   ],
   "source": [
    "from IPython.display import IFrame\n",
    "IFrame(src=\"https://en.wikipedia.org/wiki/IFrame\", width=900, height=500)"
   ]
  },
  {
   "cell_type": "code",
   "execution_count": null,
   "metadata": {},
   "outputs": [],
   "source": [
    "from IPython.display import HTML\n",
    "import random\n",
    "\n",
    "def cacher_code(for_next=True):\n",
    "    this_cell = \"\"\"$('div.cell.code_cell.rendered.selected')\"\"\"\n",
    "    next_cell = this_cell + '.next()'\n",
    "\n",
    "    toggle_text = 'Montrer/Cacher le code'  # text shown on toggle link\n",
    "    target_cell = this_cell  # target cell to control with toggle\n",
    "    js_hide_current = ''  # bit of JS to permanently hide code in current cell (only when toggling next cell)\n",
    "\n",
    "    if for_next:\n",
    "        target_cell = next_cell\n",
    "        toggle_text += ' '#next cell\n",
    "        js_hide_current = this_cell + '.find(\"div.input\").hide();'\n",
    "\n",
    "    js_f_name = 'code_toggle_{}'.format(str(random.randint(1,2**64)))\n",
    "\n",
    "    html = \"\"\"\n",
    "        <script>\n",
    "            function {f_name}() {{\n",
    "                {cell_selector}.find('div.input').toggle();\n",
    "            }}\n",
    "\n",
    "            {js_hide_current}\n",
    "        </script>\n",
    "\n",
    "        <a href=\"javascript:{f_name}()\">{toggle_text}</a>\n",
    "    \"\"\".format(\n",
    "        f_name=js_f_name,\n",
    "        cell_selector=target_cell,\n",
    "        js_hide_current=js_hide_current, \n",
    "        toggle_text=toggle_text\n",
    "    )\n",
    "\n",
    "    return HTML(html)"
   ]
  },
  {
   "cell_type": "code",
   "execution_count": null,
   "metadata": {},
   "outputs": [],
   "source": [
    "from IPython.display import Javascript\n",
    "timeout = 120 # minutes\n",
    "Javascript(\"\"\"let timerId = setInterval(() => Jupyter.notebook.execute_cells([1]), 180000);\n",
    "setTimeout(() => { clearInterval(timerId); alert('fin de cession'); },\"\"\"+ str(timeout*1000*60)+\")\")"
   ]
  }
 ],
 "metadata": {
  "celltoolbar": "Aucun(e)",
  "kernelspec": {
   "display_name": "Python 3",
   "language": "python",
   "name": "python3"
  },
  "language_info": {
   "codemirror_mode": {
    "name": "ipython",
    "version": 3
   },
   "file_extension": ".py",
   "mimetype": "text/x-python",
   "name": "python",
   "nbconvert_exporter": "python",
   "pygments_lexer": "ipython3",
   "version": "3.7.6"
  }
 },
 "nbformat": 4,
 "nbformat_minor": 4
}
